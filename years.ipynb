{
 "cells": [
  {
   "cell_type": "code",
   "execution_count": 1,
   "metadata": {},
   "outputs": [],
   "source": [
    "import numpy as np\n",
    "import pandas as pd\n",
    "from sklearn.model_selection import train_test_split\n",
    "from sklearn.linear_model import LogisticRegression"
   ]
  },
  {
   "cell_type": "markdown",
   "metadata": {},
   "source": [
    "## Indetify Bridges with Abnormal Years"
   ]
  },
  {
   "cell_type": "code",
   "execution_count": 2,
   "metadata": {},
   "outputs": [],
   "source": [
    "xls = pd.ExcelFile('ASNA 2020 Case Competition -- Database.xlsx')\n",
    "# https://stackoverflow.com/questions/26521266/using-pandas-to-pd-read-excel-for-multiple-worksheets-of-the-same-workbook\n",
    "df_map = {}\n",
    "i=0\n",
    "for sheet_name in xls.sheet_names:\n",
    "    if (i==0):\n",
    "        i=1\n",
    "        continue\n",
    "    df_map[sheet_name] = xls.parse(sheet_name)\n",
    "    df_map[sheet_name]['year']=int(sheet_name)\n",
    "data_all=pd.concat(df_map, ignore_index=True)"
   ]
  },
  {
   "cell_type": "code",
   "execution_count": 3,
   "metadata": {},
   "outputs": [],
   "source": [
    "data_all['year_code']=data_all['Bridge ID'].str.slice(start=3, stop=10)"
   ]
  },
  {
   "cell_type": "code",
   "execution_count": 4,
   "metadata": {},
   "outputs": [],
   "source": [
    "year_key=data_all.groupby(['year_code'])['Year Built'].agg(pd.Series.mode).to_frame().T.to_dict('list')"
   ]
  },
  {
   "cell_type": "code",
   "execution_count": 5,
   "metadata": {},
   "outputs": [],
   "source": [
    "def correct_year(b):\n",
    "    return year_key[b['year_code']][0]"
   ]
  },
  {
   "cell_type": "code",
   "execution_count": 6,
   "metadata": {},
   "outputs": [],
   "source": [
    "data_all['correct_year']=data_all.apply(correct_year, axis=1)"
   ]
  },
  {
   "cell_type": "code",
   "execution_count": 7,
   "metadata": {},
   "outputs": [],
   "source": [
    "incorrect=data_all[data_all['correct_year']!=data_all['Year Built']]"
   ]
  },
  {
   "cell_type": "code",
   "execution_count": 8,
   "metadata": {},
   "outputs": [
    {
     "data": {
      "text/plain": [
       "HLN999X86202700E01153    2458\n",
       "FBA631L18702126N04706     233\n",
       "Name: Bridge ID, dtype: int64"
      ]
     },
     "execution_count": 8,
     "metadata": {},
     "output_type": "execute_result"
    }
   ],
   "source": [
    "incorrect['Bridge ID'].value_counts()"
   ]
  },
  {
   "cell_type": "markdown",
   "metadata": {},
   "source": [
    "## Final Model"
   ]
  },
  {
   "cell_type": "code",
   "execution_count": 9,
   "metadata": {},
   "outputs": [],
   "source": [
    "clean_data=pd.read_csv('newtb2.csv')"
   ]
  },
  {
   "cell_type": "code",
   "execution_count": 10,
   "metadata": {},
   "outputs": [],
   "source": [
    "clean_data=clean_data.replace('N', 0)\n",
    "zr=np.zeros((1,len(clean_data)))[0]\n",
    "zr[clean_data['Structural improvement Needed']!=0]=1\n",
    "clean_data['need_cons']=zr"
   ]
  },
  {
   "cell_type": "code",
   "execution_count": 11,
   "metadata": {},
   "outputs": [
    {
     "data": {
      "text/html": [
       "<div>\n",
       "<style scoped>\n",
       "    .dataframe tbody tr th:only-of-type {\n",
       "        vertical-align: middle;\n",
       "    }\n",
       "\n",
       "    .dataframe tbody tr th {\n",
       "        vertical-align: top;\n",
       "    }\n",
       "\n",
       "    .dataframe thead th {\n",
       "        text-align: right;\n",
       "    }\n",
       "</style>\n",
       "<table border=\"1\" class=\"dataframe\">\n",
       "  <thead>\n",
       "    <tr style=\"text-align: right;\">\n",
       "      <th></th>\n",
       "      <th>Bridge ID</th>\n",
       "      <th>Road Type</th>\n",
       "      <th>Year Built</th>\n",
       "      <th>Number of Lanes</th>\n",
       "      <th>Avg Daily Traffic</th>\n",
       "      <th>Operational Status</th>\n",
       "      <th>Structure Material</th>\n",
       "      <th>Deck Material</th>\n",
       "      <th>Bridge Design</th>\n",
       "      <th>Number of Spans</th>\n",
       "      <th>Bridge Length</th>\n",
       "      <th>Road Width</th>\n",
       "      <th>Deck Width</th>\n",
       "      <th>Assessment</th>\n",
       "      <th>Structural improvement Needed</th>\n",
       "      <th>Lifetime</th>\n",
       "      <th>need_cons</th>\n",
       "    </tr>\n",
       "  </thead>\n",
       "  <tbody>\n",
       "    <tr>\n",
       "      <th>0</th>\n",
       "      <td>FBA631L18702126N04706</td>\n",
       "      <td>5</td>\n",
       "      <td>1982</td>\n",
       "      <td>1</td>\n",
       "      <td>50</td>\n",
       "      <td>1</td>\n",
       "      <td>1</td>\n",
       "      <td>3</td>\n",
       "      <td>85</td>\n",
       "      <td>1</td>\n",
       "      <td>11.2</td>\n",
       "      <td>7.9</td>\n",
       "      <td>8.5</td>\n",
       "      <td>2</td>\n",
       "      <td>0</td>\n",
       "      <td>31</td>\n",
       "      <td>0.0</td>\n",
       "    </tr>\n",
       "    <tr>\n",
       "      <th>1</th>\n",
       "      <td>AVS013E67702643T01389</td>\n",
       "      <td>5</td>\n",
       "      <td>2011</td>\n",
       "      <td>2</td>\n",
       "      <td>2000</td>\n",
       "      <td>1</td>\n",
       "      <td>2</td>\n",
       "      <td>1</td>\n",
       "      <td>75</td>\n",
       "      <td>1</td>\n",
       "      <td>41.1</td>\n",
       "      <td>12.8</td>\n",
       "      <td>13.8</td>\n",
       "      <td>2</td>\n",
       "      <td>0</td>\n",
       "      <td>7</td>\n",
       "      <td>0.0</td>\n",
       "    </tr>\n",
       "    <tr>\n",
       "      <th>2</th>\n",
       "      <td>AVS013E67706985P09389</td>\n",
       "      <td>1</td>\n",
       "      <td>2011</td>\n",
       "      <td>3</td>\n",
       "      <td>200</td>\n",
       "      <td>1</td>\n",
       "      <td>1</td>\n",
       "      <td>1</td>\n",
       "      <td>75</td>\n",
       "      <td>2</td>\n",
       "      <td>80.2</td>\n",
       "      <td>16.2</td>\n",
       "      <td>17.2</td>\n",
       "      <td>2</td>\n",
       "      <td>0</td>\n",
       "      <td>7</td>\n",
       "      <td>0.0</td>\n",
       "    </tr>\n",
       "    <tr>\n",
       "      <th>3</th>\n",
       "      <td>AVS013E67709899C08982</td>\n",
       "      <td>5</td>\n",
       "      <td>2011</td>\n",
       "      <td>2</td>\n",
       "      <td>20</td>\n",
       "      <td>1</td>\n",
       "      <td>1</td>\n",
       "      <td>0</td>\n",
       "      <td>79</td>\n",
       "      <td>1</td>\n",
       "      <td>8.2</td>\n",
       "      <td>5.5</td>\n",
       "      <td>11.0</td>\n",
       "      <td>2</td>\n",
       "      <td>0</td>\n",
       "      <td>7</td>\n",
       "      <td>0.0</td>\n",
       "    </tr>\n",
       "    <tr>\n",
       "      <th>4</th>\n",
       "      <td>AVS014K98701615G09088</td>\n",
       "      <td>2</td>\n",
       "      <td>1901</td>\n",
       "      <td>2</td>\n",
       "      <td>255</td>\n",
       "      <td>1</td>\n",
       "      <td>2</td>\n",
       "      <td>3</td>\n",
       "      <td>75</td>\n",
       "      <td>1</td>\n",
       "      <td>8.2</td>\n",
       "      <td>6.7</td>\n",
       "      <td>7.0</td>\n",
       "      <td>3</td>\n",
       "      <td>0</td>\n",
       "      <td>110</td>\n",
       "      <td>0.0</td>\n",
       "    </tr>\n",
       "  </tbody>\n",
       "</table>\n",
       "</div>"
      ],
      "text/plain": [
       "               Bridge ID  Road Type  Year Built  Number of Lanes  \\\n",
       "0  FBA631L18702126N04706          5        1982                1   \n",
       "1  AVS013E67702643T01389          5        2011                2   \n",
       "2  AVS013E67706985P09389          1        2011                3   \n",
       "3  AVS013E67709899C08982          5        2011                2   \n",
       "4  AVS014K98701615G09088          2        1901                2   \n",
       "\n",
       "   Avg Daily Traffic  Operational Status  Structure Material Deck Material  \\\n",
       "0                 50                   1                   1             3   \n",
       "1               2000                   1                   2             1   \n",
       "2                200                   1                   1             1   \n",
       "3                 20                   1                   1             0   \n",
       "4                255                   1                   2             3   \n",
       "\n",
       "   Bridge Design  Number of Spans  Bridge Length  Road Width  Deck Width  \\\n",
       "0             85                1           11.2         7.9         8.5   \n",
       "1             75                1           41.1        12.8        13.8   \n",
       "2             75                2           80.2        16.2        17.2   \n",
       "3             79                1            8.2         5.5        11.0   \n",
       "4             75                1            8.2         6.7         7.0   \n",
       "\n",
       "   Assessment  Structural improvement Needed  Lifetime  need_cons  \n",
       "0           2                              0        31        0.0  \n",
       "1           2                              0         7        0.0  \n",
       "2           2                              0         7        0.0  \n",
       "3           2                              0         7        0.0  \n",
       "4           3                              0       110        0.0  "
      ]
     },
     "execution_count": 11,
     "metadata": {},
     "output_type": "execute_result"
    }
   ],
   "source": [
    "clean_data.head()"
   ]
  },
  {
   "cell_type": "code",
   "execution_count": 12,
   "metadata": {},
   "outputs": [
    {
     "name": "stdout",
     "output_type": "stream",
     "text": [
      "% of no Structural Improvement is 38.87520831778723\n",
      "% of Structural Improvement 61.124791682212766\n"
     ]
    }
   ],
   "source": [
    "count_no_sub = len(clean_data[clean_data['need_cons']==0])\n",
    "pct_of_no_sub = count_no_sub/len(clean_data)\n",
    "print(\"% of no Structural Improvement is\", pct_of_no_sub*100)\n",
    "pct_of_sub = 1-pct_of_no_sub\n",
    "print(\"% of Structural Improvement\", pct_of_sub*100)"
   ]
  },
  {
   "cell_type": "code",
   "execution_count": 13,
   "metadata": {},
   "outputs": [],
   "source": [
    "y = clean_data['need_cons']\n",
    "X = clean_data[['Road Type','Number of Lanes','Avg Daily Traffic','Operational Status', 'Bridge Length','Assessment','Lifetime']]\n",
    "X_train, X_valid, y_train, y_valid = train_test_split(X, y)"
   ]
  },
  {
   "cell_type": "code",
   "execution_count": 14,
   "metadata": {},
   "outputs": [
    {
     "name": "stdout",
     "output_type": "stream",
     "text": [
      "0.6658596444680287\n",
      "0.676350611879415\n"
     ]
    }
   ],
   "source": [
    "logreg = LogisticRegression(random_state=0, solver='liblinear')\n",
    "logreg.fit(X_train, y_train)\n",
    "print(logreg.score(X_train, y_train))\n",
    "print(logreg.score(X_valid, y_valid))"
   ]
  },
  {
   "cell_type": "markdown",
   "metadata": {},
   "source": [
    "## Making Prediction"
   ]
  },
  {
   "cell_type": "code",
   "execution_count": 15,
   "metadata": {},
   "outputs": [],
   "source": [
    "dic={'Road Type':[],'Number of Lanes':[],'Avg Daily Traffic':[],'Operational Status':[], 'Bridge Length':[],'Assessment':[],'Lifetime':[]}"
   ]
  },
  {
   "cell_type": "code",
   "execution_count": 16,
   "metadata": {},
   "outputs": [],
   "source": [
    "for t in range(1,6):\n",
    "    for nl in range(2,18,4):\n",
    "        for avg in range(100000,800000,200000):\n",
    "            for op in range(1,6):\n",
    "                for leng in range(1000,6000,1000):\n",
    "                    for ass in [1,3,5,7]:\n",
    "                        for lt in range(10,120,15):\n",
    "                            dic['Road Type'].append(t)\n",
    "                            dic['Number of Lanes'].append(nl)\n",
    "                            dic['Avg Daily Traffic'].append(avg)\n",
    "                            dic['Operational Status'].append(op)\n",
    "                            dic['Bridge Length'].append(leng)\n",
    "                            dic['Assessment'].append(ass)\n",
    "                            dic['Lifetime'].append(lt)"
   ]
  },
  {
   "cell_type": "code",
   "execution_count": 17,
   "metadata": {},
   "outputs": [],
   "source": [
    "df_out=pd.DataFrame.from_dict(dic)\n",
    "df_out['Prob of re-construction']=logreg.predict_proba(df_out)[:,1]\n",
    "df_out.to_excel('Prob_model.xlsx',index=False)"
   ]
  },
  {
   "cell_type": "markdown",
   "metadata": {},
   "source": [
    "## Total Combination"
   ]
  },
  {
   "cell_type": "code",
   "execution_count": 18,
   "metadata": {},
   "outputs": [],
   "source": [
    "dic={'Road Type':[],'Number of Lanes':[],'Avg Daily Traffic':[],'Operational Status':[], 'Bridge Length':[],'Assessment':[],'Lifetime':[]}"
   ]
  },
  {
   "cell_type": "code",
   "execution_count": 19,
   "metadata": {},
   "outputs": [],
   "source": [
    "for t in range(1,6):\n",
    "    for nl in range(2,18,4):\n",
    "        for avg in range(100000,800000,200000):\n",
    "            for op in range(1,6):\n",
    "                for leng in range(1000,6000,1000):\n",
    "                    for ass in [1,3,5,7]:\n",
    "                        for lt in range(0,119):\n",
    "                            dic['Road Type'].append(t)\n",
    "                            dic['Number of Lanes'].append(nl)\n",
    "                            dic['Avg Daily Traffic'].append(avg)\n",
    "                            dic['Operational Status'].append(op)\n",
    "                            dic['Bridge Length'].append(leng)\n",
    "                            dic['Assessment'].append(ass)\n",
    "                            dic['Lifetime'].append(lt)"
   ]
  },
  {
   "cell_type": "code",
   "execution_count": 20,
   "metadata": {},
   "outputs": [],
   "source": [
    "df_out=pd.DataFrame.from_dict(dic)"
   ]
  },
  {
   "cell_type": "code",
   "execution_count": 21,
   "metadata": {},
   "outputs": [],
   "source": [
    "df_out['Prob of structural repair/replacement']=logreg.predict_proba(df_out)[:,1]"
   ]
  },
  {
   "cell_type": "code",
   "execution_count": 22,
   "metadata": {},
   "outputs": [],
   "source": [
    "# df_out.to_excel('Prob_model_total.xlsx',index=False)"
   ]
  },
  {
   "cell_type": "code",
   "execution_count": null,
   "metadata": {},
   "outputs": [],
   "source": []
  }
 ],
 "metadata": {
  "kernelspec": {
   "display_name": "Python 3",
   "language": "python",
   "name": "python3"
  },
  "language_info": {
   "codemirror_mode": {
    "name": "ipython",
    "version": 3
   },
   "file_extension": ".py",
   "mimetype": "text/x-python",
   "name": "python",
   "nbconvert_exporter": "python",
   "pygments_lexer": "ipython3",
   "version": "3.7.3"
  }
 },
 "nbformat": 4,
 "nbformat_minor": 2
}
